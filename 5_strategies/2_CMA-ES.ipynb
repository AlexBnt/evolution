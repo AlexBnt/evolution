{
 "cells": [
  {
   "cell_type": "markdown",
   "metadata": {
    "slideshow": {
     "slide_type": "slide"
    }
   },
   "source": [
    "<img src=\"../imgs/logo.png\" width=\"20%\" align=\"right\" style=\"margin:0px 20px\">\n",
    "\n",
    "\n",
    "# Evolutionary Computation\n",
    "\n",
    "## 5.2 CMA-ES\n",
    "\n",
    "<a rel=\"license\" href=\"http://creativecommons.org/licenses/by-sa/4.0/\"><img alt=\"Creative Commons License\" align=\"left\" src=\"https://i.creativecommons.org/l/by-sa/4.0/80x15.png\" /></a>&nbsp;| Dennis G. Wilson | <a href=\"https://d9w.github.io/evolution/\">https://d9w.github.io/evolution/</a>"
   ]
  },
  {
   "cell_type": "markdown",
   "metadata": {
    "slideshow": {
     "slide_type": "slide"
    }
   },
   "source": [
    "# CMA-ES\n",
    "\n",
    "In this section, we'll discuss the Covariance Matrix Adaptation Evolutionary Strategy, or CMA-ES [1, 2]. This is one of the most well-known evolutionary algorithms in general and is a state-of-the-art algorithm for continuous optimization. The strength of this method is that it adapts the distribution it uses to generate the next population based on the current distribution of individuals. In the previous section, we were limited to a Normal distribution with a fixed $\\sigma$. The adaptive distribution of CMA-ES means it will cross search spaces faster and narrow in more exactly on optimal points.\n",
    "\n",
    "[1] Hansen, Nikolaus, and Andreas Ostermeier. \"Adapting arbitrary normal mutation distributions in evolution strategies: The covariance matrix adaptation.\" Proceedings of IEEE international conference on evolutionary computation. IEEE, 1996.\n",
    "\n",
    "[2] Hansen, Nikolaus, and Andreas Ostermeier. \"Completely derandomized self-adaptation in evolution strategies.\" Evolutionary computation 9.2 (2001): 159-195."
   ]
  },
  {
   "cell_type": "markdown",
   "metadata": {
    "slideshow": {
     "slide_type": "slide"
    }
   },
   "source": [
    "Let's go through a simplified version of the algorithm from [3]. There are improvements to CMA-ES beyond this basic framework, but that's beyond the scope of today. [4] provides a good review of different CMA-ES modifications.\n",
    "\n",
    "[3] Hans-Georg Beyer (2007) Evolution strategies. Scholarpedia, 2(8):1965.\n",
    "\n",
    "[4] Hansen, Nikolaus. \"The CMA evolution strategy: a comparing review.\" Towards a new evolutionary computation. Springer, Berlin, Heidelberg, 2006. 75-102."
   ]
  },
  {
   "cell_type": "markdown",
   "metadata": {
    "slideshow": {
     "slide_type": "slide"
    }
   },
   "source": [
    "We'll start by creating a random individual $\\mathbf{y}$ which will be our first expert. We also create a diagonal covariance matrix $\\mathbf{C}$."
   ]
  },
  {
   "cell_type": "markdown",
   "metadata": {
    "slideshow": {
     "slide_type": "fragment"
    }
   },
   "source": [
    "$\\mbox{(L1):} \\quad \n",
    "  \\forall l=1, \\ldots, \\lambda : \\;\\;\n",
    "  \\begin{cases}\n",
    "   & \\mathbf{w}_l \n",
    "          \\leftarrow \\sigma \\sqrt{ \\mathbf{C} } \\,\n",
    "          \\mathbf{N}_l(\\mathbf{0}, \\mathbf{1}),\\\\[2mm]\n",
    "   & \\mathbf{y}_l \\leftarrow \\mathbf{y}  + \\mathbf{w}_l, \\\\[2mm]\n",
    "   & F_l \\leftarrow F(\\mathbf{y}_l),\n",
    "  \\end{cases}$"
   ]
  },
  {
   "cell_type": "markdown",
   "metadata": {
    "slideshow": {
     "slide_type": "fragment"
    }
   },
   "source": [
    "In the first step, (L1), $\\lambda$ offspring $\\mathbf{y}_l$ are created by transforming standard normally distributed random vectors using a transformation matrix $\\sqrt{\\mathbf{C}}$ which is given by Cholesky decomposition of the covariance matrix $\\mathbf{C}$ and the global step size factor $\\sigma$. We also evaluate every individual, creating $F$."
   ]
  },
  {
   "cell_type": "markdown",
   "metadata": {
    "slideshow": {
     "slide_type": "fragment"
    }
   },
   "source": [
    "$\\mbox{(L2):} \\quad \n",
    "      \\mathbf{y} \\leftarrow \\mathbf{y} + \\langle \\mathbf{w} \\rangle$"
   ]
  },
  {
   "cell_type": "markdown",
   "metadata": {
    "slideshow": {
     "slide_type": "fragment"
    }
   },
   "source": [
    "In (L2) the best $\\mu$ mutations are recombined forming the recombinant $\\mathbf{y}$ (center of mass individual) for the next generation. "
   ]
  },
  {
   "cell_type": "markdown",
   "metadata": {
    "slideshow": {
     "slide_type": "slide"
    }
   },
   "source": [
    "$\\mbox{(L3):} \\quad \n",
    "            \\mathbf{s} \\leftarrow \\left(1-\\frac{1}{\\tau}\\right)\\mathbf{s}\n",
    "          + \\sqrt{\\frac{\\mu}{\\tau} \\left(2-\\frac{1}{\\tau}\\right)} \\,\n",
    "            \\frac{\\langle \\mathbf{w} \\rangle}{\\sigma}$"
   ]
  },
  {
   "cell_type": "markdown",
   "metadata": {
    "slideshow": {
     "slide_type": "fragment"
    }
   },
   "source": [
    "Vector $\\langle \\mathbf{w} \\rangle$ combines individuals from two consecutive generations so $\\langle \\mathbf{w} \\rangle/\\sigma$ represents the tendency of evolution in the search space. In (L3), this information is cumulated in the $\\mathbf{s}$ vector, which exponentially decays with the time constant $\\tau$. A good default for this is $\\tau=\\sqrt{n}$."
   ]
  },
  {
   "cell_type": "markdown",
   "metadata": {
    "slideshow": {
     "slide_type": "fragment"
    }
   },
   "source": [
    "$\\mbox{(L4):} \\quad \n",
    "      \\mathbf{C} \\leftarrow \n",
    "      \\left(1-\\frac{1}{\\tau_{\\mathrm{c}}}\\right)\\mathbf{C}\n",
    "              + \\frac{1}{\\tau_{\\mathrm{c}}} \\mathbf{s} \\mathbf{s}^T$"
   ]
  },
  {
   "cell_type": "markdown",
   "metadata": {
    "slideshow": {
     "slide_type": "fragment"
    }
   },
   "source": [
    "In (L4), the direction vector $\\mathbf{s}$ is used to update the covariance matrix $\\mathbf{C}$ with time constant $\\tau_{\\mathrm{c}} \\propto n^2$"
   ]
  },
  {
   "cell_type": "markdown",
   "metadata": {
    "slideshow": {
     "slide_type": "slide"
    }
   },
   "source": [
    "$\\mbox{(L5):} \\quad  \n",
    "       \\mathbf{s}_\\sigma\n",
    "       \\leftarrow \\left(1-\\frac{1}{\\tau_\\sigma}\\right) \\mathbf{s}_\\sigma\n",
    "                  + \\sqrt{\\frac{\\mu}{\\tau_\\sigma}\n",
    "                    \\left(2-\\frac{1}{\\tau_\\sigma}\\right)} \\,\n",
    "                      \\langle \\mathbf{N}(\\mathbf{0}, \\mathbf{1}) \\rangle$"
   ]
  },
  {
   "cell_type": "markdown",
   "metadata": {
    "slideshow": {
     "slide_type": "slide"
    }
   },
   "source": [
    "$\\mbox{(L6):} \\quad  \n",
    "      \\sigma \\leftarrow \\sigma\\exp\\left[\n",
    "                        \\frac{\\| \\mathbf{s}_{\\sigma} \\|^2 - n}\n",
    "                                   {2 n \\sqrt{n} }\n",
    "                                        \\right]$"
   ]
  },
  {
   "cell_type": "markdown",
   "metadata": {
    "slideshow": {
     "slide_type": "fragment"
    }
   },
   "source": [
    "The distribution standard deviation $\\sigma$ is then calculated in (L5) and (L6) using the cumulated step size adaptation (CSA) technique with time constant $\\tau_\\sigma = \\sqrt{n}$ (initially $\\mathbf{s}_\\sigma = \\mathbf{0}$). $\\langle \\mathbf{N}(\\mathbf{0}, \\mathbf{1}) \\rangle$ is the distribution we calculated in (L1). "
   ]
  },
  {
   "cell_type": "markdown",
   "metadata": {
    "slideshow": {
     "slide_type": "slide"
    }
   },
   "source": [
    "So instead of simply using a Normal distribution to create the next generation, CMA-ES transforms a normal distribution by the covariance matrix $\\mathbf{C}$. It also moves at self-adjusting $\\sigma$. This makes its movement around the search space much more effective, as it is informed by the shape of the search space given through the fitness values $F$."
   ]
  },
  {
   "cell_type": "markdown",
   "metadata": {
    "slideshow": {
     "slide_type": "fragment"
    }
   },
   "source": [
    "Let's see an example of that."
   ]
  },
  {
   "cell_type": "code",
<<<<<<< HEAD
<<<<<<< HEAD
   "execution_count": 2,
=======
   "execution_count": null,
>>>>>>> parent of 5a005a4... ran the notebooks
   "metadata": {},
=======
   "execution_count": null,
   "metadata": {
    "slideshow": {
     "slide_type": "slide"
    }
   },
>>>>>>> upstream/master
   "outputs": [],
   "source": [
    "using Random\n",
    "using LinearAlgebra\n",
    "using Statistics\n",
    "using Plots"
   ]
  },
  {
   "cell_type": "code",
<<<<<<< HEAD
<<<<<<< HEAD
   "execution_count": 3,
   "metadata": {},
   "outputs": [
    {
     "data": {
      "text/plain": [
       "sphere (generic function with 1 method)"
      ]
     },
     "execution_count": 3,
     "metadata": {},
     "output_type": "execute_result"
    }
   ],
=======
   "execution_count": null,
   "metadata": {
    "slideshow": {
     "slide_type": "fragment"
    }
   },
   "outputs": [],
>>>>>>> upstream/master
=======
   "execution_count": null,
   "metadata": {},
   "outputs": [],
>>>>>>> parent of 5a005a4... ran the notebooks
   "source": [
    "solution = [3.5, -0.2]\n",
    "sphere(x::Array{Float64}) = sum((x .- solution).^2)\n",
    "himmelblau(x::Array{Float64}) = (x[1]^2 + x[2] - 11)^2 + (x[1] + x[2]^2 - 7)^2\n",
    "styblinski_tang(x::Array{Float64}) = sum(x.^4 .- 16 .* x.^2 .+ 5 .* x) / 2.0\n",
    "rastrigin(x::Array{Float64}) = 10.0 * length(x) .+ sum((x .- solution).^2 .- 10 .* cos.(2*pi.*(x .- solution)))\n",
    "objective = sphere"
   ]
  },
  {
   "cell_type": "markdown",
   "metadata": {
    "slideshow": {
     "slide_type": "slide"
    }
   },
   "source": [
    "As with last time, we'll optimize over 2 continuous variables. We'll set default values of the time constants based on $N$. These are recommended values for CMA-ES [5]\n",
    "\n",
    "[5] Hansen, Nikolaus, Sibylle D. Müller, and Petros Koumoutsakos. \"Reducing the time complexity of the derandomized evolution strategy with covariance matrix adaptation (CMA-ES).\" Evolutionary computation 11.1 (2003): 1-18."
   ]
  },
  {
   "cell_type": "code",
<<<<<<< HEAD
<<<<<<< HEAD
   "execution_count": 4,
=======
   "execution_count": null,
>>>>>>> parent of 5a005a4... ran the notebooks
   "metadata": {},
=======
   "execution_count": null,
   "metadata": {
    "slideshow": {
     "slide_type": "fragment"
    }
   },
>>>>>>> upstream/master
   "outputs": [],
   "source": [
    "N = 2\n",
    "μ = 5\n",
    "λ = 10\n",
    "τ = sqrt(N)\n",
    "τ_c = N^2\n",
    "τ_σ = sqrt(N);"
   ]
  },
  {
   "cell_type": "markdown",
   "metadata": {
    "slideshow": {
     "slide_type": "slide"
    }
   },
   "source": [
    "Now let's make our random expert and create placeholder fitness and offspring vectors."
   ]
  },
  {
   "cell_type": "code",
<<<<<<< HEAD
<<<<<<< HEAD
   "execution_count": 5,
=======
   "execution_count": null,
>>>>>>> parent of 5a005a4... ran the notebooks
   "metadata": {},
=======
   "execution_count": null,
   "metadata": {
    "slideshow": {
     "slide_type": "fragment"
    }
   },
>>>>>>> upstream/master
   "outputs": [],
   "source": [
    "y = randn(N)\n",
    "offspring = Array{Array{Float64}}(undef, λ)\n",
    "F = Inf .* ones(λ);"
   ]
  },
  {
   "cell_type": "markdown",
   "metadata": {
    "slideshow": {
     "slide_type": "fragment"
    }
   },
   "source": [
    "Finally, we need to initialize $\\mathbf{C}, \\mathbf{N}, \\mathbf{w}, \\mathbf{s}, \\mathbf{s_\\sigma},$ and $\\mathbf{\\sigma}$."
   ]
  },
  {
   "cell_type": "code",
<<<<<<< HEAD
<<<<<<< HEAD
   "execution_count": 6,
=======
   "execution_count": null,
>>>>>>> parent of 5a005a4... ran the notebooks
   "metadata": {},
=======
   "execution_count": null,
   "metadata": {
    "slideshow": {
     "slide_type": "fragment"
    }
   },
>>>>>>> upstream/master
   "outputs": [],
   "source": [
    "C = Diagonal{Float64}(I, N)\n",
    "W = zeros(N, λ)\n",
    "s = zeros(N)\n",
    "s_σ = zeros(N)\n",
    "σ = 1.0\n",
    "E = zeros(N, λ);"
   ]
  },
  {
   "cell_type": "markdown",
   "metadata": {
    "slideshow": {
     "slide_type": "slide"
    }
   },
   "source": [
    "Step 1: We calculate the offspring distribution $\\mathbf{w}$ then center it at the center-of-mass individual $\\mathbf{y}$."
   ]
  },
  {
   "cell_type": "markdown",
   "metadata": {
    "slideshow": {
     "slide_type": "fragment"
    }
   },
   "source": [
    "$\\mbox{(L1):} \\quad \n",
    "  \\forall l=1, \\ldots, \\lambda : \\;\\;\n",
    "  \\begin{cases}\n",
    "   & \\mathbf{w}_l \n",
    "          \\leftarrow \\sigma \\sqrt{ \\mathbf{C} } \\,\n",
    "          \\mathbf{N}_l(\\mathbf{0}, \\mathbf{1}),\\\\[2mm]\n",
    "   & \\mathbf{y}_l \\leftarrow \\mathbf{y}  + \\mathbf{w}_l, \\\\[2mm]\n",
    "   & F_l \\leftarrow F(\\mathbf{y}_l),\n",
    "  \\end{cases}$"
   ]
  },
  {
   "cell_type": "code",
<<<<<<< HEAD
<<<<<<< HEAD
   "execution_count": 7,
   "metadata": {},
   "outputs": [
    {
     "data": {
      "text/plain": [
       "2×2 Diagonal{Float64,Array{Float64,1}}:\n",
       " 1.0   ⋅ \n",
       "  ⋅   1.0"
      ]
     },
     "execution_count": 7,
     "metadata": {},
     "output_type": "execute_result"
    }
   ],
=======
   "execution_count": null,
   "metadata": {
    "slideshow": {
     "slide_type": "fragment"
    }
   },
   "outputs": [],
>>>>>>> upstream/master
=======
   "execution_count": null,
   "metadata": {},
   "outputs": [],
>>>>>>> parent of 5a005a4... ran the notebooks
   "source": [
    "sqrt_c = cholesky((C + C') / 2.0).U"
   ]
  },
  {
   "cell_type": "markdown",
   "metadata": {
    "slideshow": {
     "slide_type": "fragment"
    }
   },
   "source": [
    "Note that our $\\mathbf{C}$ covariance matrix is currently 1, so this first distribution will just be a normal distribution without any transformation. We will then evaluate every individual."
   ]
  },
  {
   "cell_type": "code",
<<<<<<< HEAD
<<<<<<< HEAD
   "execution_count": 23,
=======
   "execution_count": null,
>>>>>>> parent of 5a005a4... ran the notebooks
   "metadata": {},
=======
   "execution_count": null,
   "metadata": {
    "slideshow": {
     "slide_type": "slide"
    }
   },
>>>>>>> upstream/master
   "outputs": [],
   "source": [
    "for i in 1:λ\n",
    "    E[:,i] = randn(N)\n",
    "    W[:,i] = σ * (sqrt_c * E[:,i])\n",
    "    offspring[i] = y + W[:,i]\n",
    "    F_λ[i] = objective(offspring[i])\n",
    "end"
   ]
  },
  {
   "cell_type": "markdown",
   "metadata": {
    "slideshow": {
     "slide_type": "fragment"
    }
   },
   "source": [
    "Now that we have evaluated the individuals, we will select a subset of them to inform the next generation. We'll simply use a truncation selection, taking the top $\\mu$ individuals."
   ]
  },
  {
   "cell_type": "code",
<<<<<<< HEAD
<<<<<<< HEAD
   "execution_count": 21,
   "metadata": {},
   "outputs": [
    {
     "data": {
      "text/plain": [
       "5-element Array{Int64,1}:\n",
       " 10\n",
       "  7\n",
       "  2\n",
       "  9\n",
       "  6"
      ]
     },
     "execution_count": 21,
     "metadata": {},
     "output_type": "execute_result"
    }
   ],
=======
   "execution_count": null,
   "metadata": {
    "slideshow": {
     "slide_type": "fragment"
    }
   },
   "outputs": [],
>>>>>>> upstream/master
=======
   "execution_count": null,
   "metadata": {},
   "outputs": [],
>>>>>>> parent of 5a005a4... ran the notebooks
   "source": [
    "idx = sortperm(F_λ)[1:μ]"
   ]
  },
  {
   "cell_type": "markdown",
   "metadata": {
    "slideshow": {
     "slide_type": "slide"
    }
   },
   "source": [
    "Now step 2. We update $\\mathbf{y}$ using the top $\\mu$ individuals in $\\mathbf{w}$"
   ]
  },
  {
   "cell_type": "markdown",
   "metadata": {
    "slideshow": {
     "slide_type": "fragment"
    }
   },
   "source": [
    "$\\mbox{(L2):} \\quad \n",
    "      \\mathbf{y} \\leftarrow \\mathbf{y} + \\langle \\mathbf{w} \\rangle$"
   ]
  },
  {
   "cell_type": "code",
<<<<<<< HEAD
<<<<<<< HEAD
   "execution_count": 24,
   "metadata": {},
   "outputs": [
    {
     "data": {
      "text/plain": [
       "2-element Array{Float64,1}:\n",
       "  0.987476563413112\n",
       " -0.7096558600077022"
      ]
     },
     "execution_count": 24,
     "metadata": {},
     "output_type": "execute_result"
    }
   ],
=======
   "execution_count": null,
   "metadata": {
    "slideshow": {
     "slide_type": "fragment"
    }
   },
   "outputs": [],
>>>>>>> upstream/master
=======
   "execution_count": null,
   "metadata": {},
   "outputs": [],
>>>>>>> parent of 5a005a4... ran the notebooks
   "source": [
    "w = vec(mean(W[:,idx], dims=2))\n",
    "y += w"
   ]
  },
  {
   "cell_type": "markdown",
   "metadata": {
    "slideshow": {
     "slide_type": "slide"
    }
   },
   "source": [
    "In step 3, we update the direction vector $\\mathbf{s}$."
   ]
  },
  {
   "cell_type": "markdown",
   "metadata": {
    "slideshow": {
     "slide_type": "fragment"
    }
   },
   "source": [
    "$\\mbox{(L3):} \\quad \n",
    "            \\mathbf{s} \\leftarrow \\left(1-\\frac{1}{\\tau}\\right)\\mathbf{s}\n",
    "          + \\sqrt{\\frac{\\mu}{\\tau} \\left(2-\\frac{1}{\\tau}\\right)} \\,\n",
    "            \\frac{\\langle \\mathbf{w} \\rangle}{\\sigma}$"
   ]
  },
  {
   "cell_type": "code",
<<<<<<< HEAD
<<<<<<< HEAD
   "execution_count": 25,
   "metadata": {},
   "outputs": [
    {
     "data": {
      "text/plain": [
       "2-element Array{Float64,1}:\n",
       " -0.5472431175988983\n",
       " -1.458293081689926"
      ]
     },
     "execution_count": 25,
     "metadata": {},
     "output_type": "execute_result"
    }
   ],
=======
   "execution_count": null,
   "metadata": {
    "slideshow": {
     "slide_type": "fragment"
    }
   },
   "outputs": [],
>>>>>>> upstream/master
=======
   "execution_count": null,
   "metadata": {},
   "outputs": [],
>>>>>>> parent of 5a005a4... ran the notebooks
   "source": [
    "s = (1.0 - 1.0/τ)*s + (sqrt(μ/τ * (2.0 - 1.0/τ))/σ)*w"
   ]
  },
  {
   "cell_type": "markdown",
   "metadata": {
    "slideshow": {
     "slide_type": "fragment"
    }
   },
   "source": [
    "Next we update our covariance matrix $\\mathbf{C}$. Note that it will no longer be a diagonal matrix: our next update will use a transformed distribution to generate the population."
   ]
  },
  {
   "cell_type": "markdown",
   "metadata": {
    "slideshow": {
     "slide_type": "slide"
    }
   },
   "source": [
    "$\\mbox{(L4):} \\quad \n",
    "      \\mathbf{C} \\leftarrow \n",
    "      \\left(1-\\frac{1}{\\tau_{\\mathrm{c}}}\\right)\\mathbf{C}\n",
    "              + \\frac{1}{\\tau_{\\mathrm{c}}} \\mathbf{s} \\mathbf{s}^T$"
   ]
  },
  {
   "cell_type": "code",
<<<<<<< HEAD
<<<<<<< HEAD
   "execution_count": 26,
   "metadata": {},
   "outputs": [
    {
     "data": {
      "text/plain": [
       "2×2 Array{Float64,2}:\n",
       " 0.637369  0.19951\n",
       " 0.19951   1.09415"
      ]
     },
     "execution_count": 26,
     "metadata": {},
     "output_type": "execute_result"
    }
   ],
=======
   "execution_count": null,
   "metadata": {
    "slideshow": {
     "slide_type": "fragment"
    }
   },
   "outputs": [],
>>>>>>> upstream/master
=======
   "execution_count": null,
   "metadata": {},
   "outputs": [],
>>>>>>> parent of 5a005a4... ran the notebooks
   "source": [
    "C = (1.0 - 1.0/τ_c).*C + (s./τ_c)*s'"
   ]
  },
  {
   "cell_type": "markdown",
   "metadata": {
    "slideshow": {
     "slide_type": "slide"
    }
   },
   "source": [
    "Finally, we update the $\\sigma$, which is the standard deviation of the distribution we generate in the first step. Note that its initial value was `1.0`."
   ]
  },
  {
   "cell_type": "markdown",
   "metadata": {
    "slideshow": {
     "slide_type": "fragment"
    }
   },
   "source": [
    "$\\mbox{(L5):} \\quad  \n",
    "       \\mathbf{s}_\\sigma\n",
    "       \\leftarrow \\left(1-\\frac{1}{\\tau_\\sigma}\\right) \\mathbf{s}_\\sigma\n",
    "                  + \\sqrt{\\frac{\\mu}{\\tau_\\sigma}\n",
    "                    \\left(2-\\frac{1}{\\tau_\\sigma}\\right)} \\,\n",
    "                      \\langle \\mathbf{N}(\\mathbf{0}, \\mathbf{1}) \\rangle$"
   ]
  },
  {
   "cell_type": "markdown",
   "metadata": {
    "slideshow": {
     "slide_type": "fragment"
    }
   },
   "source": [
    "$\\mbox{(L6):} \\quad  \n",
    "      \\sigma \\leftarrow \\sigma\\exp\\left[\n",
    "                        \\frac{\\| \\mathbf{s}_{\\sigma} \\|^2 - n}\n",
    "                                   {2 n \\sqrt{n} }\n",
    "                                        \\right]$"
   ]
  },
  {
   "cell_type": "code",
<<<<<<< HEAD
<<<<<<< HEAD
   "execution_count": 27,
   "metadata": {},
   "outputs": [
    {
     "data": {
      "text/plain": [
       "1.0782328419739111"
      ]
     },
     "execution_count": 27,
     "metadata": {},
     "output_type": "execute_result"
    }
   ],
=======
   "execution_count": null,
   "metadata": {
    "slideshow": {
     "slide_type": "fragment"
    }
   },
   "outputs": [],
>>>>>>> upstream/master
=======
   "execution_count": null,
   "metadata": {},
   "outputs": [],
>>>>>>> parent of 5a005a4... ran the notebooks
   "source": [
    "ɛ = vec(mean(E[:,idx], dims=2))\n",
    "s_σ = (1.0 - 1.0/τ_σ)*s_σ + sqrt(μ/τ_σ*(2.0 - 1.0/τ_σ))*ɛ\n",
    "σ = σ*exp(((s_σ'*s_σ)[1] - N)/(2*N*sqrt(N)))"
   ]
  },
  {
   "cell_type": "markdown",
   "metadata": {
    "slideshow": {
     "slide_type": "fragment"
    }
   },
   "source": [
    "That's a lot! Let's put it all together in an object and see how it runs over multiple iterations."
   ]
  },
  {
   "cell_type": "code",
<<<<<<< HEAD
<<<<<<< HEAD
   "execution_count": 28,
=======
   "execution_count": null,
>>>>>>> parent of 5a005a4... ran the notebooks
   "metadata": {},
=======
   "execution_count": null,
   "metadata": {
    "slideshow": {
     "slide_type": "slide"
    }
   },
>>>>>>> upstream/master
   "outputs": [],
   "source": [
    "mutable struct CMAES\n",
    "    N::Int\n",
    "    μ::Int\n",
    "    λ::Int\n",
    "    τ::Float64\n",
    "    τ_c::Float64\n",
    "    τ_σ::Float64\n",
    "    population::Array{Array{Float64}}\n",
    "    offspring::Array{Array{Float64}}\n",
    "    F_μ::Array{Float64}\n",
    "    F_λ::Array{Float64}\n",
    "    C::Array{Float64}\n",
    "    s::Array{Float64}\n",
    "    s_σ::Array{Float64}\n",
    "    σ::Float64\n",
    "    E::Array{Float64}\n",
    "    W::Array{Float64}\n",
    "    x::Array{Float64}\n",
    "end"
   ]
  },
  {
   "cell_type": "code",
<<<<<<< HEAD
<<<<<<< HEAD
   "execution_count": 29,
   "metadata": {},
   "outputs": [
    {
     "data": {
      "text/plain": [
       "CMAES"
      ]
     },
     "execution_count": 29,
     "metadata": {},
     "output_type": "execute_result"
    }
   ],
=======
   "execution_count": null,
   "metadata": {
    "slideshow": {
     "slide_type": "slide"
    }
   },
   "outputs": [],
>>>>>>> upstream/master
=======
   "execution_count": null,
   "metadata": {},
   "outputs": [],
>>>>>>> parent of 5a005a4... ran the notebooks
   "source": [
    "function CMAES(;N=2, μ=1, λ=10, τ=sqrt(N), τ_c=N^2, τ_σ=sqrt(N))\n",
    "    x = randn(N)\n",
    "    population = fill(x, µ)\n",
    "    offspring = Array{Array{Float64}}(undef, λ)\n",
    "    F_µ = Inf .* ones(µ)\n",
    "    F_λ = Inf .* ones(λ)\n",
    "    C = Array(Diagonal{Float64}(I, N))\n",
    "    s = zeros(N)\n",
    "    s_σ = zeros(N)\n",
    "    σ = 1.0\n",
    "    E = zeros(N, λ)\n",
    "    W = zeros(N, λ);\n",
    "    CMAES(N, μ, λ, τ, τ_c, τ_σ, population, offspring, F_µ, F_λ, C, s, s_σ, σ, E, W, x)\n",
    "end"
   ]
  },
  {
   "cell_type": "code",
   "execution_count": null,
   "metadata": {
    "scrolled": true,
    "slideshow": {
     "slide_type": "fragment"
    }
   },
   "outputs": [],
   "source": [
    "c = CMAES()"
   ]
  },
  {
   "cell_type": "code",
<<<<<<< HEAD
<<<<<<< HEAD
   "execution_count": 31,
   "metadata": {},
   "outputs": [
    {
     "data": {
      "text/plain": [
       "step! (generic function with 1 method)"
      ]
     },
     "execution_count": 31,
     "metadata": {},
     "output_type": "execute_result"
    }
   ],
=======
   "execution_count": null,
   "metadata": {
    "slideshow": {
     "slide_type": "slide"
    }
   },
   "outputs": [],
>>>>>>> upstream/master
=======
   "execution_count": null,
   "metadata": {},
   "outputs": [],
>>>>>>> parent of 5a005a4... ran the notebooks
   "source": [
    "function step!(c::CMAES; obj=objective, visualize=false, anim=Nothing)\n",
    "    # L1\n",
    "    sqrt_c = cholesky((c.C + c.C') / 2.0).U\n",
    "    for i in 1:c.λ\n",
    "        c.E[:,i] = randn(c.N)\n",
    "        c.W[:,i] = c.σ * (sqrt_c * c.E[:,i])\n",
    "        c.offspring[i] = c.x + c.W[:,i]\n",
    "        c.F_λ[i] = obj(c.offspring[i])\n",
    "    end    \n",
    "    # Select new parent population\n",
    "    idx = sortperm(c.F_λ)[1:c.μ]\n",
    "    for i in 1:c.μ\n",
    "        c.population[i] = c.offspring[idx[i]]\n",
    "        c.F_μ[i] = c.F_λ[idx[i]]\n",
    "    end    \n",
    "    # L2\n",
    "    w = vec(mean(c.W[:,idx], dims=2))\n",
    "    c.x += w    \n",
    "    # L3\n",
    "    c.s = (1.0 - 1.0/c.τ)*c.s + (sqrt(c.μ/c.τ * (2.0 - 1.0/c.τ))/c.σ)*w   \n",
    "    # L4\n",
    "    c.C = (1.0 - 1.0/c.τ_c).*c.C + (c.s./c.τ_c)*c.s'    \n",
    "    # L5\n",
    "    ɛ = vec(mean(c.E[:,idx], dims=2))\n",
    "    c.s_σ = (1.0 - 1.0/c.τ_σ)*c.s_σ + sqrt(c.μ/c.τ_σ*(2.0 - 1.0/c.τ_σ))*ɛ    \n",
    "    # L6\n",
    "    c.σ = c.σ*exp(((c.s_σ'*c.s_σ)[1] - c.N)/(2*c.N*sqrt(c.N)))\n",
    "    if visualize\n",
    "        plot(xs, ys, fz, st=:contour)\n",
    "        scatter!([c.offspring[i][1] for i in 1:λ], [c.offspring[i][2] for i in 1:λ], \n",
    "            xlims=(-5, 5), ylims=(-5, 5), legend=:none)\n",
    "        scatter!([c.x[1]], [c.x[2]], color=:black, marker=:rect,\n",
    "            xlims=(-5, 5), ylims=(-5, 5), legend=:none)\n",
    "        frame(anim)\n",
    "    end\n",
    "    c\n",
    "end"
   ]
  },
  {
   "cell_type": "code",
<<<<<<< HEAD
<<<<<<< HEAD
   "execution_count": 34,
   "metadata": {},
   "outputs": [
    {
     "data": {
      "text/plain": [
       "plot_obj (generic function with 1 method)"
      ]
     },
     "execution_count": 34,
     "metadata": {},
     "output_type": "execute_result"
    }
   ],
   "source": [
    "xs = -5.0:0.1:5.0\n",
    "ys = -5.0:0.1:5.0\n",
    "fz(x, y) = objective([x, y])\n",
    "\n",
    "function plot_obj()\n",
    "    \n",
=======
   "execution_count": null,
   "metadata": {
    "slideshow": {
     "slide_type": "slide"
    }
   },
   "outputs": [],
   "source": [
    "function plot_obj()\n",
>>>>>>> upstream/master
=======
   "execution_count": null,
   "metadata": {},
   "outputs": [],
   "source": [
    "function plot_obj()\n",
    "    xs = -5.0:0.1:5.0\n",
    "    ys = -5.0:0.1:5.0\n",
    "    fz(x, y) = objective([x, y])\n",
    "\n",
>>>>>>> parent of 5a005a4... ran the notebooks
    "    c = CMAES()\n",
    "    println(\"x initial: \", c.x)\n",
    "    anim = Animation()\n",
    "    for i in 1:100\n",
    "        v = mod(i, 1) == 0\n",
    "        step!(c, visualize=v, anim=anim)\n",
    "    end\n",
    "    println(\"x final: \", c.x)\n",
    "    gif(anim)\n",
    "end"
   ]
  },
  {
   "cell_type": "code",
<<<<<<< HEAD
<<<<<<< HEAD
   "execution_count": 38,
   "metadata": {},
   "outputs": [
    {
     "name": "stdout",
     "output_type": "stream",
     "text": [
      "[3.5, -0.2]\n",
      "x initial: [0.1278259467421039, -0.1491019278064854]\n",
      "x final: [2.746802767050454, -2.9035340385302204]\n"
     ]
    },
    {
     "name": "stderr",
     "output_type": "stream",
     "text": [
      "┌ Info: Saved animation to \n",
      "│   fn = C:\\Users\\alexb\\Google Drive\\CS Projects\\Evolutionnary Algorithms\\evolution\\5_strategies\\tmp.gif\n",
      "└ @ Plots C:\\Users\\alexb\\.julia\\packages\\Plots\\ZRCUN\\src\\animation.jl:102\n"
     ]
    },
    {
     "data": {
      "text/html": [
       "<img src=\"data:image/gif;base64,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\" />"
      ],
      "text/plain": [
       "Plots.AnimatedGif(\"C:\\\\Users\\\\alexb\\\\Google Drive\\\\CS Projects\\\\Evolutionnary Algorithms\\\\evolution\\\\5_strategies\\\\tmp.gif\")"
      ]
     },
     "execution_count": 38,
     "metadata": {},
     "output_type": "execute_result"
    }
   ],
   "source": [
    "objective = styblinski_tang # sphere, himmelblau, styblinski_tang, rastrigin\n",
=======
   "execution_count": null,
   "metadata": {
    "slideshow": {
     "slide_type": "slide"
    }
   },
   "outputs": [],
   "source": [
    "xs = -5.0:0.1:5.0\n",
    "ys = -5.0:0.1:5.0\n",
    "\n",
    "objective = himmelblau # sphere, himmelblau, styblinski_tang, rastrigin\n",
    "fz(x, y) = objective([x, y])\n",
>>>>>>> upstream/master
=======
   "execution_count": null,
   "metadata": {},
   "outputs": [],
   "source": [
    "objective = sphere # sphere, himmelblau, styblinski_tang, rastrigin\n",
>>>>>>> parent of 5a005a4... ran the notebooks
    "println(solution) # optimal for sphere and rastrigin\n",
    "plot_obj()"
   ]
  },
  {
   "cell_type": "markdown",
   "metadata": {
    "slideshow": {
     "slide_type": "slide"
    }
   },
   "source": [
    "<div class=\"alert alert-success\">\n",
    "    <b>Exercise</b>\n",
    "    <br/>\n",
    "    Modify the parent population size and child population of the problem. Can you get CMA-ES to reliably converge on the Rastrigin function? What about for higer dimensions of $n$? Report your $\\mu$ and $\\lambda$ values in the class chat.\n",
    "</div>    "
   ]
  },
  {
   "cell_type": "code",
   "execution_count": null,
   "metadata": {},
   "outputs": [],
   "source": []
  }
 ],
 "metadata": {
  "@webio": {
   "lastCommId": null,
   "lastKernelId": null
  },
  "celltoolbar": "Slideshow",
  "kernelspec": {
   "display_name": "Julia 1.4.1",
   "language": "julia",
   "name": "julia-1.4"
  },
  "language_info": {
   "file_extension": ".jl",
   "mimetype": "application/julia",
   "name": "julia",
   "version": "1.4.1"
  }
 },
 "nbformat": 4,
 "nbformat_minor": 2
}
